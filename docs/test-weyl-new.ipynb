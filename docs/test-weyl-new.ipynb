{
 "cells": [
  {
   "cell_type": "code",
   "execution_count": 1,
   "id": "bf7032da",
   "metadata": {},
   "outputs": [
    {
     "name": "stdout",
     "output_type": "stream",
     "text": [
      "T\n"
     ]
    }
   ],
   "source": [
    "(load \"../load+test/load-weyl\")"
   ]
  },
  {
   "cell_type": "code",
   "execution_count": 2,
   "id": "1cf7cacb",
   "metadata": {},
   "outputs": [
    {
     "name": "stdout",
     "output_type": "stream",
     "text": [
      "#<PACKAGE \"WEYL\">\n"
     ]
    }
   ],
   "source": [
    "(in-package :weyl)"
   ]
  },
  {
   "cell_type": "code",
   "execution_count": 3,
   "id": "bd970f28",
   "metadata": {},
   "outputs": [
    {
     "name": "stdout",
     "output_type": "stream",
     "text": [
      "NIL\n"
     ]
    }
   ],
   "source": [
    "(ge-vars '(p q r s u v))"
   ]
  },
  {
   "cell_type": "code",
   "execution_count": 4,
   "id": "e5165279",
   "metadata": {},
   "outputs": [
    {
     "name": "stdout",
     "output_type": "stream",
     "text": [
      "NIL\n"
     ]
    }
   ],
   "source": [
    "(ge-vars '(x_0 x_1 x_2 x_3 _x4))"
   ]
  },
  {
   "cell_type": "code",
   "execution_count": 5,
   "id": "88f2021a",
   "metadata": {},
   "outputs": [
    {
     "name": "stdout",
     "output_type": "stream",
     "text": [
      "GVS\n"
     ]
    }
   ],
   "source": [
    "(defvar gvs (list-ge-vars))"
   ]
  },
  {
   "cell_type": "code",
   "execution_count": 6,
   "id": "c779bd28",
   "metadata": {},
   "outputs": [
    {
     "name": "stdout",
     "output_type": "stream",
     "text": [
      "(T T T T T T T T T T T T T)\n"
     ]
    }
   ],
   "source": [
    "(mapcar #'ge-variable? gvs) "
   ]
  },
  {
   "cell_type": "code",
   "execution_count": 7,
   "id": "f1c36b20",
   "metadata": {},
   "outputs": [
    {
     "name": "stdout",
     "output_type": "stream",
     "text": [
      "T\n"
     ]
    }
   ],
   "source": [
    "(= (length gvs) 13)"
   ]
  },
  {
   "cell_type": "code",
   "execution_count": 8,
   "id": "83d0b4ef",
   "metadata": {},
   "outputs": [
    {
     "name": "stdout",
     "output_type": "stream",
     "text": [
      "(_x4 x_3 x_2 x_1 x_0 v u s r q p v.1 x)\n"
     ]
    }
   ],
   "source": [
    "gvs"
   ]
  },
  {
   "cell_type": "code",
   "execution_count": 9,
   "id": "215599ed",
   "metadata": {},
   "outputs": [
    {
     "name": "stdout",
     "output_type": "stream",
     "text": [
      "WTYPE\n"
     ]
    }
   ],
   "source": [
    "(defun wtype (obj) (cl::type-of obj))"
   ]
  },
  {
   "cell_type": "code",
   "execution_count": 10,
   "id": "ac6e2bdd",
   "metadata": {},
   "outputs": [
    {
     "name": "stdout",
     "output_type": "stream",
     "text": [
      "q + p\n"
     ]
    }
   ],
   "source": [
    "(+-> \"p+q\")"
   ]
  },
  {
   "cell_type": "code",
   "execution_count": 11,
   "id": "4626fd1b",
   "metadata": {},
   "outputs": [
    {
     "name": "stdout",
     "output_type": "stream",
     "text": [
      "q^2 p\n"
     ]
    }
   ],
   "source": [
    "(+-> \"p*q^2\")"
   ]
  },
  {
   "cell_type": "code",
   "execution_count": 12,
   "id": "9a0eb0be",
   "metadata": {},
   "outputs": [
    {
     "name": "stdout",
     "output_type": "stream",
     "text": [
      "(cos(x_2 x_1)) q^2 p - (x_2 (sin(x_2 x_1)) x_1 q^2 p)\n"
     ]
    }
   ],
   "source": [
    "(deriv (+-> \"p*q^2*sin(x_1*x_2)\") x_2 x_1)"
   ]
  },
  {
   "cell_type": "code",
   "execution_count": 13,
   "id": "030e8469",
   "metadata": {},
   "outputs": [
    {
     "name": "stdout",
     "output_type": "stream",
     "text": [
      "(sin(q))^2 + (cos(q))^2\n"
     ]
    }
   ],
   "source": [
    "(+-> \"sin(q)^2+cos(q)^2\") "
   ]
  },
  {
   "cell_type": "code",
   "execution_count": 14,
   "id": "4b7a0223",
   "metadata": {},
   "outputs": [
    {
     "name": "stdout",
     "output_type": "stream",
     "text": [
      "2 (sin(q)) (cos(q)) - (2 (cos(q)) (sin(q)))\n"
     ]
    }
   ],
   "source": [
    "(deriv (+-> \"sin(q)^2+cos(q)^2\") q)  "
   ]
  },
  {
   "cell_type": "code",
   "execution_count": 15,
   "id": "86008d94",
   "metadata": {},
   "outputs": [
    {
     "name": "stdout",
     "output_type": "stream",
     "text": [
      "0\n"
     ]
    }
   ],
   "source": [
    "(+-> \"p*q-q*p\") "
   ]
  },
  {
   "cell_type": "code",
   "execution_count": 31,
   "id": "2f5e6b8f",
   "metadata": {},
   "outputs": [
    {
     "name": "stdout",
     "output_type": "stream",
     "text": [
      "T1\n"
     ]
    }
   ],
   "source": [
    "(defvar t1  (wtype p)) "
   ]
  },
  {
   "cell_type": "code",
   "execution_count": 17,
   "id": "e896ae85",
   "metadata": {},
   "outputs": [
    {
     "name": "stdout",
     "output_type": "stream",
     "text": [
      "T2\n"
     ]
    }
   ],
   "source": [
    "(defvar t2  (wtype (+-> \"p*q\"))) "
   ]
  },
  {
   "cell_type": "code",
   "execution_count": 18,
   "id": "1b3b6dfd",
   "metadata": {},
   "outputs": [
    {
     "name": "stdout",
     "output_type": "stream",
     "text": [
      "T3\n"
     ]
    }
   ],
   "source": [
    "(defvar t3  (wtype (+-> \"p/q\")))   "
   ]
  },
  {
   "cell_type": "code",
   "execution_count": 19,
   "id": "1d4b4c4c",
   "metadata": {},
   "outputs": [
    {
     "name": "stdout",
     "output_type": "stream",
     "text": [
      "T4\n"
     ]
    }
   ],
   "source": [
    "(defvar t4  (wtype (+-> \"p+q\"))) "
   ]
  },
  {
   "cell_type": "code",
   "execution_count": 20,
   "id": "ecb941eb",
   "metadata": {},
   "outputs": [
    {
     "name": "stdout",
     "output_type": "stream",
     "text": [
      "T5\n"
     ]
    }
   ],
   "source": [
    "(defvar t5  (wtype (+-> \"p-q\")))  "
   ]
  },
  {
   "cell_type": "code",
   "execution_count": 21,
   "id": "d1f9f581",
   "metadata": {},
   "outputs": [
    {
     "name": "stdout",
     "output_type": "stream",
     "text": [
      "T6\n"
     ]
    }
   ],
   "source": [
    "(defvar t6  (wtype (+-> \"p^q\"))) "
   ]
  },
  {
   "cell_type": "code",
   "execution_count": 22,
   "id": "97a53869",
   "metadata": {},
   "outputs": [
    {
     "name": "stdout",
     "output_type": "stream",
     "text": [
      "T7\n"
     ]
    }
   ],
   "source": [
    "(defvar t7  (wtype (+-> \"-p\")))   "
   ]
  },
  {
   "cell_type": "code",
   "execution_count": 23,
   "id": "7e6c43a3",
   "metadata": {},
   "outputs": [
    {
     "name": "stdout",
     "output_type": "stream",
     "text": [
      "T8\n"
     ]
    }
   ],
   "source": [
    "(defvar t8  (wtype (+-> \"sin(p)\")))"
   ]
  },
  {
   "cell_type": "code",
   "execution_count": 24,
   "id": "4518ca04",
   "metadata": {},
   "outputs": [
    {
     "name": "stdout",
     "output_type": "stream",
     "text": [
      "T9\n"
     ]
    }
   ],
   "source": [
    "(defvar t9  (wtype (+-> \"p^2+q*p\"))) "
   ]
  },
  {
   "cell_type": "code",
   "execution_count": 25,
   "id": "e5810ac5",
   "metadata": {},
   "outputs": [
    {
     "name": "stdout",
     "output_type": "stream",
     "text": [
      "T10\n"
     ]
    }
   ],
   "source": [
    "(defvar t10 (wtype (+-> \"q-q\")))  "
   ]
  },
  {
   "cell_type": "code",
   "execution_count": 26,
   "id": "52a66e36",
   "metadata": {},
   "outputs": [
    {
     "name": "stdout",
     "output_type": "stream",
     "text": [
      "T11\n"
     ]
    }
   ],
   "source": [
    "(defvar t11 (wtype (+-> \"q/q\"))) "
   ]
  },
  {
   "cell_type": "code",
   "execution_count": 32,
   "id": "f4934021",
   "metadata": {},
   "outputs": [
    {
     "name": "stdout",
     "output_type": "stream",
     "text": [
      "(GE-VARIABLE GE-TIMES GE-TIMES GE-PLUS GE-PLUS GE-EXPT GE-TIMES GE-APPLICATION\n",
      " GE-PLUS RATIONAL-INTEGER RATIONAL-INTEGER)\n"
     ]
    }
   ],
   "source": [
    "(list t1 t2 t3 t4 t5 t6 t7 t8 t9 t10 t11)"
   ]
  },
  {
   "cell_type": "code",
   "execution_count": 36,
   "id": "7cb7d40c",
   "metadata": {},
   "outputs": [
    {
     "name": "stdout",
     "output_type": "stream",
     "text": [
      "V2\n"
     ]
    }
   ],
   "source": [
    "(progn (defvar v1 1)\n",
    "(defvar v2 2))"
   ]
  },
  {
   "cell_type": "code",
   "execution_count": 37,
   "id": "6e54bae8",
   "metadata": {},
   "outputs": [
    {
     "name": "stdout",
     "output_type": "stream",
     "text": [
      "2\n"
     ]
    }
   ],
   "source": [
    "v2"
   ]
  },
  {
   "cell_type": "code",
   "execution_count": 41,
   "id": "2df98abf",
   "metadata": {},
   "outputs": [
    {
     "name": "stdout",
     "output_type": "stream",
     "text": [
      "q^(-1 + p) p^(1 + q^p) (log(p)) (log(q)) + (log(p))^2 q^(-1 + 2 p) p^(1 + q^p) (log(q)) + q^(-1 + p) (log(p)) p^q^p + q^(-1 + p) p^q^p + (log(p)) q^(-1 + 2 p) p^q^p\n"
     ]
    }
   ],
   "source": [
    "(deriv (+-> \"p^q^p\") p q)"
   ]
  },
  {
   "cell_type": "code",
   "execution_count": 42,
   "id": "29b78010",
   "metadata": {},
   "outputs": [
    {
     "name": "stdout",
     "output_type": "stream",
     "text": [
      "SLOT-NAMES\n"
     ]
    }
   ],
   "source": [
    "(defun slot-names (cls)\n",
    "  (mapcar #'sb-mop::slot-definition-name \n",
    "    (sb-mop:class-slots (sb-mop::find-class cls ))))"
   ]
  },
  {
   "cell_type": "code",
   "execution_count": 43,
   "id": "19acb921",
   "metadata": {},
   "outputs": [
    {
     "name": "stdout",
     "output_type": "stream",
     "text": [
      "SLOT-IARGS\n"
     ]
    }
   ],
   "source": [
    "(defun slot-iargs (cls)\n",
    "  (mapcar #'sb-mop::slot-definition-initargs \n",
    "    (sb-mop:class-slots (sb-mop::find-class cls))))"
   ]
  },
  {
   "cell_type": "code",
   "execution_count": 44,
   "id": "317b3577",
   "metadata": {},
   "outputs": [
    {
     "name": "stdout",
     "output_type": "stream",
     "text": [
      "SLOT-INFO\n"
     ]
    }
   ],
   "source": [
    "(defun slot-info (obj &key (prt t))\n",
    "  (let* ((tobj (cl-user::type-of obj))\n",
    "         (sn (slot-names tobj))\n",
    "         (sv (map 'list (lambda (x) (slot-value obj x)) sn))\n",
    "         (sa (slot-iargs tobj)))\n",
    "            (format prt \"Obj:Type : ~a : ~a ~%\" obj tobj)\n",
    "            (format prt \"Names ...: ~{~a~^, ~} ~%\" sn)\n",
    "            (format prt \"Values ..: ~{~a~^, ~} ~%\" sv)  \n",
    "            (format prt \"InitArgs : ~{~a~^, ~} ~%~%\" sa)))"
   ]
  },
  {
   "cell_type": "markdown",
   "id": "ee585d50",
   "metadata": {},
   "source": [
    "We have to catch standard-outout in juCL and add a progn to each cell :todo:"
   ]
  },
  {
   "cell_type": "code",
   "execution_count": 45,
   "id": "eebb1c79",
   "metadata": {},
   "outputs": [
    {
     "name": "stdout",
     "output_type": "stream",
     "text": [
      "NIL\n"
     ]
    }
   ],
   "source": [
    "(slot-info p)"
   ]
  },
  {
   "cell_type": "code",
   "execution_count": 47,
   "id": "a5624adc",
   "metadata": {},
   "outputs": [
    {
     "name": "stdout",
     "output_type": "stream",
     "text": [
      "GE1\n"
     ]
    }
   ],
   "source": [
    "(defvar ge1 (/ r (* x_0 p q)))"
   ]
  },
  {
   "cell_type": "code",
   "execution_count": 48,
   "id": "1c0935db",
   "metadata": {},
   "outputs": [
    {
     "name": "stderr",
     "output_type": "stream",
     "text": [
      " No way to compare x_0 r^-1 q p and (x_0 q p)^-1 r)\n"
     ]
    }
   ],
   "source": [
    "(= (+-> \"x_0*p*q/r\") ge1)"
   ]
  },
  {
   "cell_type": "code",
   "execution_count": 50,
   "id": "eeaacfde",
   "metadata": {},
   "outputs": [
    {
     "name": "stdout",
     "output_type": "stream",
     "text": [
      "NIL\n"
     ]
    }
   ],
   "source": [
    "(ge-equal (+-> \"x_0*p*q/r\") ge1)"
   ]
  },
  {
   "cell_type": "code",
   "execution_count": 51,
   "id": "836a3c93",
   "metadata": {},
   "outputs": [
    {
     "name": "stdout",
     "output_type": "stream",
     "text": [
      "x_0 r^-1 q p\n"
     ]
    }
   ],
   "source": [
    "(+-> \"x_0*p*q/r\") "
   ]
  },
  {
   "cell_type": "code",
   "execution_count": 52,
   "id": "0c4c305f",
   "metadata": {},
   "outputs": [
    {
     "name": "stdout",
     "output_type": "stream",
     "text": [
      "(x_0 q p)^-1 r\n"
     ]
    }
   ],
   "source": [
    "ge1"
   ]
  },
  {
   "cell_type": "code",
   "execution_count": 53,
   "id": "c8623d39",
   "metadata": {},
   "outputs": [
    {
     "name": "stdout",
     "output_type": "stream",
     "text": [
      "T\n"
     ]
    }
   ],
   "source": [
    "(ge-equal (+-> \"r/(x_0*p*q)\") ge1)"
   ]
  },
  {
   "cell_type": "code",
   "execution_count": 54,
   "id": "dae5cb0d",
   "metadata": {},
   "outputs": [
    {
     "name": "stdout",
     "output_type": "stream",
     "text": [
      "NIL\n"
     ]
    }
   ],
   "source": [
    "(equal (+-> \"r/(x_0*p*q)\") ge1)"
   ]
  },
  {
   "cell_type": "code",
   "execution_count": 55,
   "id": "5ebe602c",
   "metadata": {},
   "outputs": [
    {
     "name": "stdout",
     "output_type": "stream",
     "text": [
      "NIL\n"
     ]
    }
   ],
   "source": [
    "(eql (+-> \"r/(x_0*p*q)\") ge1)"
   ]
  },
  {
   "cell_type": "code",
   "execution_count": 56,
   "id": "41009206",
   "metadata": {},
   "outputs": [
    {
     "name": "stdout",
     "output_type": "stream",
     "text": [
      "NIL\n"
     ]
    }
   ],
   "source": [
    "(eq (+-> \"r/(x_0*p*q)\") ge1)"
   ]
  },
  {
   "cell_type": "code",
   "execution_count": 57,
   "id": "0c0d0ee9",
   "metadata": {},
   "outputs": [
    {
     "name": "stdout",
     "output_type": "stream",
     "text": [
      "T\n"
     ]
    }
   ],
   "source": [
    "(ge-equal (+-> \"r/(x_0*p*q)\") ge1)"
   ]
  },
  {
   "cell_type": "code",
   "execution_count": null,
   "id": "533a87b7",
   "metadata": {},
   "outputs": [],
   "source": []
  }
 ],
 "metadata": {
  "kernelspec": {
   "display_name": "juCL",
   "language": "common-lisp",
   "name": "jucl"
  },
  "language_info": {
   "file_extension": ".lisp",
   "mimetype": "text/plain",
   "name": "common-lisp"
  }
 },
 "nbformat": 4,
 "nbformat_minor": 5
}
