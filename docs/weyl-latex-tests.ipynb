{
 "cells": [
  {
   "cell_type": "code",
   "execution_count": 1,
   "id": "45f0850c",
   "metadata": {},
   "outputs": [
    {
     "name": "stdout",
     "output_type": "stream",
     "text": [
      "(WEYL)\n"
     ]
    }
   ],
   "source": [
    "(ql:quickload :weyl)"
   ]
  },
  {
   "cell_type": "code",
   "execution_count": 3,
   "id": "3ab9b481",
   "metadata": {},
   "outputs": [
    {
     "name": "stdout",
     "output_type": "stream",
     "text": [
      "#<PACKAGE \"WEYL\">\n"
     ]
    }
   ],
   "source": [
    "(in-package :weyl)"
   ]
  },
  {
   "cell_type": "code",
   "execution_count": 5,
   "id": "0566c2bf",
   "metadata": {},
   "outputs": [
    {
     "name": "stdout",
     "output_type": "stream",
     "text": [
      "NIL\n"
     ]
    }
   ],
   "source": [
    "(ge-vars '(x y z p q r s))"
   ]
  },
  {
   "cell_type": "code",
   "execution_count": 6,
   "id": "cc9f2f69",
   "metadata": {},
   "outputs": [
    {
     "name": "stdout",
     "output_type": "stream",
     "text": [
      "GE1\n"
     ]
    }
   ],
   "source": [
    "(defvar ge1 (+-> \"x^2+y+3*x^p+log(x^q)\"))"
   ]
  },
  {
   "cell_type": "code",
   "execution_count": 7,
   "id": "92edeb88",
   "metadata": {},
   "outputs": [
    {
     "name": "stdout",
     "output_type": "stream",
     "text": [
      "3 x^p + x^2 + y + q (log(x))\n"
     ]
    }
   ],
   "source": [
    "ge1"
   ]
  },
  {
   "cell_type": "code",
   "execution_count": 8,
   "id": "1ee91bd4",
   "metadata": {},
   "outputs": [
    {
     "name": "stdout",
     "output_type": "stream",
     "text": [
      "({{{3}} \\, {{{{x}}^{{p}}}}} + {{{{x}}^{{2}}}} + {{y}} + {{{q}} \\, {\\operatorname{log}( {{x}})}})\n"
     ]
    }
   ],
   "source": [
    "(latex ge1)"
   ]
  },
  {
   "cell_type": "code",
   "execution_count": 9,
   "id": "cd5189f7",
   "metadata": {},
   "outputs": [
    {
     "data": {
      "text/latex": [
       "$({{{3}} \\, {{{{x}}^{{p}}}}} + {{{{x}}^{{2}}}} + {{y}} + {{{q}} \\, {\\operatorname{log}( {{x}})}})$\n"
      ]
     },
     "metadata": {},
     "output_type": "display_data"
    }
   ],
   "source": [
    "(latex ge1 :pre \"$\" :post \"$\")"
   ]
  },
  {
   "cell_type": "code",
   "execution_count": 10,
   "id": "5a296fc5",
   "metadata": {},
   "outputs": [
    {
     "data": {
      "text/latex": [
       "$({{{3}} \\, {{{{x}}^{(({{-1}} + {{p}}))}}} \\, {{p}}} + {{{2}} \\, {{x}}} + {{{{{x}}^{{-1}}}} \\, {{q}}})$\n"
      ]
     },
     "metadata": {},
     "output_type": "display_data"
    }
   ],
   "source": [
    "(latex (deriv ge1 x) :pre \"$\" :post \"$\")"
   ]
  },
  {
   "cell_type": "code",
   "execution_count": 14,
   "id": "dfe8f296",
   "metadata": {},
   "outputs": [
    {
     "name": "stdout",
     "output_type": "stream",
     "text": [
      "(log(x)) x^(-1 + x) + (x^(-1 + x) + ((log(x)) x^x + x^x) (log(x)) + (log(x)) x^x + x^x) (log(x)) + ((log(x)) x^x + x^x) x^-1 + ((log(x)) x^x + x^x) (log(x)) + (-1 + x) x^(-2 + x) + x^(-1 + x) + (log(x)) x^x + x^x\n"
     ]
    }
   ],
   "source": [
    "(deriv (expt x x) x x x)"
   ]
  },
  {
   "cell_type": "code",
   "execution_count": 16,
   "id": "89fbee0b",
   "metadata": {},
   "outputs": [
    {
     "data": {
      "text/latex": [
       "$({{\\operatorname{log}( {{x}})} \\, {{{{x}}^{(({{-1}} + {{x}}))}}}} + {{({{{{x}}^{(({{-1}} + {{x}}))}}} + {{({{\\operatorname{log}( {{x}})} \\, {{{{x}}^{{x}}}}} + {{{{x}}^{{x}}}})} \\, {\\operatorname{log}( {{x}})}} + {{\\operatorname{log}( {{x}})} \\, {{{{x}}^{{x}}}}} + {{{{x}}^{{x}}}})} \\, {\\operatorname{log}( {{x}})}} + {{({{\\operatorname{log}( {{x}})} \\, {{{{x}}^{{x}}}}} + {{{{x}}^{{x}}}})} \\, {{{{x}}^{{-1}}}}} + {{({{\\operatorname{log}( {{x}})} \\, {{{{x}}^{{x}}}}} + {{{{x}}^{{x}}}})} \\, {\\operatorname{log}( {{x}})}} + {{({{-1}} + {{x}})} \\, {{{{x}}^{(({{-2}} + {{x}}))}}}} + {{{{x}}^{(({{-1}} + {{x}}))}}} + {{\\operatorname{log}( {{x}})} \\, {{{{x}}^{{x}}}}} + {{{{x}}^{{x}}}})$\n"
      ]
     },
     "metadata": {},
     "output_type": "display_data"
    }
   ],
   "source": [
    "(latex (deriv (expt x x) x x x) :pre \"$\" :post \"$\")"
   ]
  },
  {
   "cell_type": "code",
   "execution_count": 17,
   "id": "74389e0e",
   "metadata": {},
   "outputs": [
    {
     "name": "stdout",
     "output_type": "stream",
     "text": [
      "PP\n"
     ]
    }
   ],
   "source": [
    "(defun pp (s) (latex s  :pre \"$\" :post \"$\"))"
   ]
  },
  {
   "cell_type": "code",
   "execution_count": 22,
   "id": "5977b28a",
   "metadata": {},
   "outputs": [
    {
     "data": {
      "text/latex": [
       "${{{{y}}^{{-1}}}} \\, {{x}}$\n"
      ]
     },
     "metadata": {},
     "output_type": "display_data"
    }
   ],
   "source": [
    "(pp (/ x y))"
   ]
  },
  {
   "cell_type": "code",
   "execution_count": 24,
   "id": "171fa8b5",
   "metadata": {},
   "outputs": [
    {
     "data": {
      "text/latex": [
       "${{\\frac{3}{5}}} \\, {{x}}$\n"
      ]
     },
     "metadata": {},
     "output_type": "display_data"
    }
   ],
   "source": [
    "(pp (* (/ 3 5) x))"
   ]
  },
  {
   "cell_type": "code",
   "execution_count": null,
   "id": "34658f80",
   "metadata": {},
   "outputs": [],
   "source": []
  }
 ],
 "metadata": {
  "kernelspec": {
   "display_name": "juCL",
   "language": "common-lisp",
   "name": "jucl"
  },
  "language_info": {
   "file_extension": ".lisp",
   "mimetype": "text/plain",
   "name": "common-lisp"
  }
 },
 "nbformat": 4,
 "nbformat_minor": 5
}
