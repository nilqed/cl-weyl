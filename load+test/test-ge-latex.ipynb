{
 "cells": [
  {
   "cell_type": "code",
   "execution_count": 1,
   "id": "0f3e7110",
   "metadata": {},
   "outputs": [
    {
     "name": "stdout",
     "output_type": "stream",
     "text": [
      "T\n"
     ]
    }
   ],
   "source": [
    "(load \"load-weyl\")"
   ]
  },
  {
   "cell_type": "code",
   "execution_count": 3,
   "id": "9e5b2643",
   "metadata": {},
   "outputs": [
    {
     "name": "stdout",
     "output_type": "stream",
     "text": [
      "#<PACKAGE \"WEYL\">\n"
     ]
    }
   ],
   "source": [
    "(in-package :weyl)"
   ]
  },
  {
   "cell_type": "code",
   "execution_count": 4,
   "id": "e9ccf645",
   "metadata": {},
   "outputs": [
    {
     "name": "stdout",
     "output_type": "stream",
     "text": [
      "NIL\n"
     ]
    }
   ],
   "source": [
    "(ge-vars '(p q r x_0 x_1 x_2 x_3))"
   ]
  },
  {
   "cell_type": "code",
   "execution_count": 5,
   "id": "0dd38085",
   "metadata": {},
   "outputs": [
    {
     "name": "stdout",
     "output_type": "stream",
     "text": [
      "(x_3 x_2 x_1 x_0 r q p v.1 x)\n"
     ]
    }
   ],
   "source": [
    "(list-ge-vars)"
   ]
  },
  {
   "cell_type": "code",
   "execution_count": 7,
   "id": "32f63959",
   "metadata": {},
   "outputs": [
    {
     "name": "stdout",
     "output_type": "stream",
     "text": [
      "TEST-LATEX\n"
     ]
    }
   ],
   "source": [
    "(defun test-latex ()\n",
    "  (list (latex (+ p q))\n",
    "        (latex (* p q))\n",
    "        (latex (* p (expt q 2) ))\n",
    "        (latex (* p (expt q 2) (sin x_1))) \n",
    "        (latex (/ p q))\n",
    "        (latex (+ (* x_3 (expt x_1 x_2)) (* x_0 x_1 x_2 (expt x_3 p))))\n",
    "        (latex (* p (expt q 2) (sin x_1))) \n",
    "        (latex (/ x_1 x_0))\n",
    "        (latex (+ (* x_3 (expt x_1 x_2)) (* x_0 x_1 x_2 (expt x_3 p))))        \n",
    "        ))"
   ]
  },
  {
   "cell_type": "code",
   "execution_count": 16,
   "id": "f7a46d19",
   "metadata": {},
   "outputs": [
    {
     "name": "stdout",
     "output_type": "stream",
     "text": [
      "($${{q}} + {{p}}$$ $${{q}} \\, {{p}}$$ $${{{{q}}^{{2}}}} \\, {{p}}$$\n",
      " $${{{{q}}^{{2}}}} \\, {{p}} \\, {\\operatorname{sin}( {{x_1}})}$$\n",
      " $${{{{q}}^{{-1}}}} \\, {{p}}$$\n",
      " $${{{x_3}} \\, {{{{x_1}}^{{x_2}}}}} + {{{{{x_3}}^{{p}}}} \\, {{x_2}} \\, {{x_1}} \\, {{x_0}}}$$\n",
      " $${{{{q}}^{{2}}}} \\, {{p}} \\, {\\operatorname{sin}( {{x_1}})}$$\n",
      " $${{x_1}} \\, {{{{x_0}}^{{-1}}}}$$\n",
      " $${{{x_3}} \\, {{{{x_1}}^{{x_2}}}}} + {{{{{x_3}}^{{p}}}} \\, {{x_2}} \\, {{x_1}} \\, {{x_0}}}$$)\n"
     ]
    }
   ],
   "source": [
    "(test-latex)"
   ]
  },
  {
   "cell_type": "code",
   "execution_count": 17,
   "id": "78a8b520",
   "metadata": {},
   "outputs": [
    {
     "data": {
      "text/latex": [
       "$${{q}} + {{p}}$$\n"
      ]
     },
     "metadata": {},
     "output_type": "display_data"
    }
   ],
   "source": [
    "(latex (+ p q))"
   ]
  },
  {
   "cell_type": "code",
   "execution_count": 18,
   "id": "4eef8f50",
   "metadata": {},
   "outputs": [
    {
     "data": {
      "text/latex": [
       "$${{q}} \\, {{p}}$$\n"
      ]
     },
     "metadata": {},
     "output_type": "display_data"
    }
   ],
   "source": [
    "(latex (* p q))"
   ]
  },
  {
   "cell_type": "code",
   "execution_count": 19,
   "id": "a98df285",
   "metadata": {},
   "outputs": [
    {
     "data": {
      "text/latex": [
       "$${{{{q}}^{{2}}}} \\, {{p}}$$\n"
      ]
     },
     "metadata": {},
     "output_type": "display_data"
    }
   ],
   "source": [
    "(latex (* p (expt q 2) ))"
   ]
  },
  {
   "cell_type": "code",
   "execution_count": 20,
   "id": "22c81161",
   "metadata": {},
   "outputs": [
    {
     "data": {
      "text/latex": [
       "$${{{{q}}^{{2}}}} \\, {{p}} \\, {\\operatorname{sin}( {{x_1}})}$$\n"
      ]
     },
     "metadata": {},
     "output_type": "display_data"
    }
   ],
   "source": [
    "(latex (* p (expt q 2) (sin x_1))) "
   ]
  },
  {
   "cell_type": "code",
   "execution_count": 21,
   "id": "323184b1",
   "metadata": {},
   "outputs": [
    {
     "data": {
      "text/latex": [
       "$${{{{q}}^{{-1}}}} \\, {{p}}$$\n"
      ]
     },
     "metadata": {},
     "output_type": "display_data"
    }
   ],
   "source": [
    "(latex (/ p q))"
   ]
  },
  {
   "cell_type": "code",
   "execution_count": 22,
   "id": "98dda699",
   "metadata": {},
   "outputs": [
    {
     "data": {
      "text/latex": [
       "$${{{x_3}} \\, {{{{x_1}}^{{x_2}}}}} + {{{{{x_3}}^{{p}}}} \\, {{x_2}} \\, {{x_1}} \\, {{x_0}}}$$\n"
      ]
     },
     "metadata": {},
     "output_type": "display_data"
    }
   ],
   "source": [
    "(latex (+ (* x_3 (expt x_1 x_2)) (* x_0 x_1 x_2 (expt x_3 p))))"
   ]
  },
  {
   "cell_type": "code",
   "execution_count": 23,
   "id": "d74a47ce",
   "metadata": {},
   "outputs": [
    {
     "data": {
      "text/latex": [
       "$${{{{q}}^{{2}}}} \\, {{p}} \\, {\\operatorname{sin}( {{x_1}})}$$\n"
      ]
     },
     "metadata": {},
     "output_type": "display_data"
    }
   ],
   "source": [
    "(latex (* p (expt q 2) (sin x_1))) "
   ]
  },
  {
   "cell_type": "code",
   "execution_count": 24,
   "id": "cafe8ddd",
   "metadata": {},
   "outputs": [
    {
     "data": {
      "text/latex": [
       "$${{x_1}} \\, {{{{x_0}}^{{-1}}}}$$\n"
      ]
     },
     "metadata": {},
     "output_type": "display_data"
    }
   ],
   "source": [
    " (latex (/ x_1 x_0))"
   ]
  },
  {
   "cell_type": "code",
   "execution_count": 25,
   "id": "a8780e26",
   "metadata": {},
   "outputs": [
    {
     "data": {
      "text/latex": [
       "$${{{x_3}} \\, {{{{x_1}}^{{x_2}}}}} + {{{{{x_3}}^{{p}}}} \\, {{x_2}} \\, {{x_1}} \\, {{x_0}}}$$\n"
      ]
     },
     "metadata": {},
     "output_type": "display_data"
    }
   ],
   "source": [
    "(latex (+ (* x_3 (expt x_1 x_2)) (* x_0 x_1 x_2 (expt x_3 p))))    "
   ]
  },
  {
   "cell_type": "markdown",
   "id": "5ad39aed",
   "metadata": {},
   "source": [
    "Bad! need ()"
   ]
  },
  {
   "cell_type": "code",
   "execution_count": 28,
   "id": "0a1749a3",
   "metadata": {},
   "outputs": [
    {
     "data": {
      "text/latex": [
       "$${{{{q}}^{{{{{{2}} \\, {{x_1}}} + {{x_0}}}^{{3}}}}}} \\, {{p}}$$\n"
      ]
     },
     "metadata": {},
     "output_type": "display_data"
    }
   ],
   "source": [
    "(latex (+-> \"p*q^(x_0+2*x_1)^3\"))"
   ]
  },
  {
   "cell_type": "code",
   "execution_count": 29,
   "id": "8a34b8f6",
   "metadata": {},
   "outputs": [
    {
     "name": "stdout",
     "output_type": "stream",
     "text": [
      "q^(2 x_1 + x_0)^3 p\n"
     ]
    }
   ],
   "source": [
    "(+-> \"p*q^(x_0+2*x_1)^3\")"
   ]
  },
  {
   "cell_type": "code",
   "execution_count": 31,
   "id": "336c7f46",
   "metadata": {},
   "outputs": [
    {
     "data": {
      "text/latex": [
       "$${{{{{{2}} \\, {{x_1}}} + {{x_0}}}^{{3}}}} \\, {{{{q}}^{{{-1}} + {{{{{{2}} \\, {{x_1}}} + {{x_0}}}^{{3}}}}}}}$$\n"
      ]
     },
     "metadata": {},
     "output_type": "display_data"
    }
   ],
   "source": [
    "(latex (deriv (+-> \"p*q^(x_0+2*x_1)^3\") p q))"
   ]
  },
  {
   "cell_type": "code",
   "execution_count": 32,
   "id": "810b0b98",
   "metadata": {},
   "outputs": [
    {
     "data": {
      "text/latex": [
       "$${{{6}} \\, {{{{{{2}} \\, {{x_1}}} + {{x_0}}}^{{2}}}} \\, {{{{q}}^{{{-1}} + {{{{{{2}} \\, {{x_1}}} + {{x_0}}}^{{3}}}}}}}} + {{{6}} \\, {\\operatorname{log}( {{q}})} \\, {{{{q}}^{{{-1}} + {{{{{{2}} \\, {{x_1}}} + {{x_0}}}^{{3}}}}}}} \\, {{{{{{2}} \\, {{x_1}}} + {{x_0}}}^{{5}}}}}$$\n"
      ]
     },
     "metadata": {},
     "output_type": "display_data"
    }
   ],
   "source": [
    "(latex (deriv (+-> \"p*q^(x_0+2*x_1)^3\") p q x_1))"
   ]
  },
  {
   "cell_type": "code",
   "execution_count": null,
   "id": "ef79d7d4",
   "metadata": {},
   "outputs": [],
   "source": [
    ";;; "
   ]
  }
 ],
 "metadata": {
  "kernelspec": {
   "display_name": "juCL",
   "language": "common-lisp",
   "name": "jucl"
  },
  "language_info": {
   "file_extension": ".lisp",
   "mimetype": "text/plain",
   "name": "common-lisp"
  }
 },
 "nbformat": 4,
 "nbformat_minor": 5
}
